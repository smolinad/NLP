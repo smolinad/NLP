{
 "cells": [
  {
   "cell_type": "code",
   "execution_count": 1,
   "metadata": {},
   "outputs": [],
   "source": [
    "import torch\n",
    "import pandas as pd\n",
    "import altair as alt"
   ]
  },
  {
   "cell_type": "markdown",
   "metadata": {},
   "source": [
    "## Load the inputs"
   ]
  },
  {
   "cell_type": "code",
   "execution_count": 2,
   "metadata": {},
   "outputs": [],
   "source": [
    "words = open(\"names.txt\", \"r\").read().splitlines()"
   ]
  },
  {
   "cell_type": "markdown",
   "metadata": {},
   "source": [
    "This creates all training bigrams, where the data entry is the $i$-th character of a word, and the label is the $i+1$-th character,"
   ]
  },
  {
   "cell_type": "code",
   "execution_count": 3,
   "metadata": {},
   "outputs": [],
   "source": [
    "training = [[xs, ys] for w in words for xs, ys in zip(\".\"+w, w+\".\")]"
   ]
  },
  {
   "cell_type": "markdown",
   "metadata": {},
   "source": [
    "This encodes the characters as indices in a lookup table."
   ]
  },
  {
   "cell_type": "code",
   "execution_count": 4,
   "metadata": {},
   "outputs": [],
   "source": [
    "alphabet = sorted(list(set(\".\".join(words))))\n",
    "char_to_idx = {c: i for i, c in enumerate(alphabet)}\n",
    "idx_to_char = {i: c for i, c in enumerate(alphabet)}"
   ]
  },
  {
   "cell_type": "markdown",
   "metadata": {},
   "source": [
    "## Classical counting approach"
   ]
  },
  {
   "cell_type": "markdown",
   "metadata": {},
   "source": [
    "Here we create a count table for every possible bigram including the special limiting character `.`."
   ]
  },
  {
   "cell_type": "code",
   "execution_count": 5,
   "metadata": {},
   "outputs": [],
   "source": [
    "counts = torch.zeros((len(alphabet), len(alphabet)), dtype=torch.int32)"
   ]
  },
  {
   "cell_type": "code",
   "execution_count": 6,
   "metadata": {},
   "outputs": [],
   "source": [
    "for x, y in training:\n",
    "    counts[char_to_idx[x], char_to_idx[y]] +=1"
   ]
  },
  {
   "cell_type": "code",
   "execution_count": 7,
   "metadata": {},
   "outputs": [],
   "source": [
    "def plot_histogram(counts:torch.Tensor):\n",
    "\n",
    "    df = pd.DataFrame(counts.numpy(), index=alphabet, columns=alphabet)\n",
    "\n",
    "    # Reshape the DataFrame for Altair heatmap\n",
    "    df_melted = df.melt(ignore_index=False).reset_index()\n",
    "    df_melted[\"text\"] = df_melted[\"index\"] + df_melted[\"variable\"]\n",
    "\n",
    "    heatmap = alt.Chart(df_melted).mark_rect().encode(\n",
    "        x=alt.X('variable:O', axis=None), #O stands for ordinal\n",
    "        y=alt.Y('index:O', axis=None),\n",
    "        color=alt.Color('value:Q', legend=None) #Q stands for quantitative\n",
    "    ).properties(\n",
    "        width=800,\n",
    "        height=800\n",
    "    )\n",
    "\n",
    "    bigrams = heatmap.mark_text(baseline='bottom').encode(\n",
    "        alt.Text('text:O'),\n",
    "        color=alt.condition(\n",
    "            alt.datum.value > 3000,\n",
    "            alt.value('white'),\n",
    "            alt.value('grey')\n",
    "        )\n",
    "    )\n",
    "\n",
    "    c = heatmap.mark_text(baseline='top').encode(\n",
    "        alt.Text('value:Q'),\n",
    "        color=alt.condition(\n",
    "            alt.datum.value > 3000,\n",
    "            alt.value('white'),\n",
    "            alt.value('grey'))\n",
    "    )\n",
    "\n",
    "    return (heatmap + bigrams + c)"
   ]
  },
  {
   "cell_type": "code",
   "execution_count": 8,
   "metadata": {},
   "outputs": [
    {
     "data": {
      "text/html": [
       "\n",
       "<style>\n",
       "  #altair-viz-0516e036e34c4a49ad55f380810bb828.vega-embed {\n",
       "    width: 100%;\n",
       "    display: flex;\n",
       "  }\n",
       "\n",
       "  #altair-viz-0516e036e34c4a49ad55f380810bb828.vega-embed details,\n",
       "  #altair-viz-0516e036e34c4a49ad55f380810bb828.vega-embed details summary {\n",
       "    position: relative;\n",
       "  }\n",
       "</style>\n",
       "<div id=\"altair-viz-0516e036e34c4a49ad55f380810bb828\"></div>\n",
       "<script type=\"text/javascript\">\n",
       "  var VEGA_DEBUG = (typeof VEGA_DEBUG == \"undefined\") ? {} : VEGA_DEBUG;\n",
       "  (function(spec, embedOpt){\n",
       "    let outputDiv = document.currentScript.previousElementSibling;\n",
       "    if (outputDiv.id !== \"altair-viz-0516e036e34c4a49ad55f380810bb828\") {\n",
       "      outputDiv = document.getElementById(\"altair-viz-0516e036e34c4a49ad55f380810bb828\");\n",
       "    }\n",
       "    const paths = {\n",
       "      \"vega\": \"https://cdn.jsdelivr.net/npm/vega@5?noext\",\n",
       "      \"vega-lib\": \"https://cdn.jsdelivr.net/npm/vega-lib?noext\",\n",
       "      \"vega-lite\": \"https://cdn.jsdelivr.net/npm/vega-lite@5.16.3?noext\",\n",
       "      \"vega-embed\": \"https://cdn.jsdelivr.net/npm/vega-embed@6?noext\",\n",
       "    };\n",
       "\n",
       "    function maybeLoadScript(lib, version) {\n",
       "      var key = `${lib.replace(\"-\", \"\")}_version`;\n",
       "      return (VEGA_DEBUG[key] == version) ?\n",
       "        Promise.resolve(paths[lib]) :\n",
       "        new Promise(function(resolve, reject) {\n",
       "          var s = document.createElement('script');\n",
       "          document.getElementsByTagName(\"head\")[0].appendChild(s);\n",
       "          s.async = true;\n",
       "          s.onload = () => {\n",
       "            VEGA_DEBUG[key] = version;\n",
       "            return resolve(paths[lib]);\n",
       "          };\n",
       "          s.onerror = () => reject(`Error loading script: ${paths[lib]}`);\n",
       "          s.src = paths[lib];\n",
       "        });\n",
       "    }\n",
       "\n",
       "    function showError(err) {\n",
       "      outputDiv.innerHTML = `<div class=\"error\" style=\"color:red;\">${err}</div>`;\n",
       "      throw err;\n",
       "    }\n",
       "\n",
       "    function displayChart(vegaEmbed) {\n",
       "      vegaEmbed(outputDiv, spec, embedOpt)\n",
       "        .catch(err => showError(`Javascript Error: ${err.message}<br>This usually means there's a typo in your chart specification. See the javascript console for the full traceback.`));\n",
       "    }\n",
       "\n",
       "    if(typeof define === \"function\" && define.amd) {\n",
       "      requirejs.config({paths});\n",
       "      require([\"vega-embed\"], displayChart, err => showError(`Error loading script: ${err.message}`));\n",
       "    } else {\n",
       "      maybeLoadScript(\"vega\", \"5\")\n",
       "        .then(() => maybeLoadScript(\"vega-lite\", \"5.16.3\"))\n",
       "        .then(() => maybeLoadScript(\"vega-embed\", \"6\"))\n",
       "        .catch(showError)\n",
       "        .then(() => displayChart(vegaEmbed));\n",
       "    }\n",
       "  })({\"config\": {\"view\": {\"continuousWidth\": 300, \"continuousHeight\": 300}}, \"layer\": [{\"mark\": {\"type\": \"rect\"}, \"encoding\": {\"color\": {\"field\": \"value\", \"legend\": null, \"type\": \"quantitative\"}, \"x\": {\"axis\": null, \"field\": \"variable\", \"type\": \"ordinal\"}, \"y\": {\"axis\": null, \"field\": \"index\", \"type\": \"ordinal\"}}}, {\"mark\": {\"type\": \"text\", \"baseline\": \"bottom\"}, \"encoding\": {\"color\": {\"condition\": {\"test\": \"(datum.value > 3000)\", \"value\": \"white\"}, \"value\": \"grey\"}, \"text\": {\"field\": \"text\", \"type\": \"ordinal\"}, \"x\": {\"axis\": null, \"field\": \"variable\", \"type\": \"ordinal\"}, \"y\": {\"axis\": null, \"field\": \"index\", \"type\": \"ordinal\"}}}, {\"mark\": {\"type\": \"text\", \"baseline\": \"top\"}, \"encoding\": {\"color\": {\"condition\": {\"test\": \"(datum.value > 3000)\", \"value\": \"white\"}, \"value\": \"grey\"}, \"text\": {\"field\": \"value\", \"type\": \"quantitative\"}, \"x\": {\"axis\": null, \"field\": \"variable\", \"type\": \"ordinal\"}, \"y\": {\"axis\": null, \"field\": \"index\", \"type\": \"ordinal\"}}}], \"data\": {\"name\": \"data-39a852523f4a5e744c8720fd4a1e1b48\"}, \"height\": 800, \"width\": 800, \"$schema\": \"https://vega.github.io/schema/vega-lite/v5.16.3.json\", \"datasets\": {\"data-39a852523f4a5e744c8720fd4a1e1b48\": [{\"index\": \".\", \"variable\": \".\", \"value\": 0, \"text\": \"..\"}, {\"index\": \"a\", \"variable\": \".\", \"value\": 6640, \"text\": \"a.\"}, {\"index\": \"b\", \"variable\": \".\", \"value\": 114, \"text\": \"b.\"}, {\"index\": \"c\", \"variable\": \".\", \"value\": 97, \"text\": \"c.\"}, {\"index\": \"d\", \"variable\": \".\", \"value\": 516, \"text\": \"d.\"}, {\"index\": \"e\", \"variable\": \".\", \"value\": 3983, \"text\": \"e.\"}, {\"index\": \"f\", \"variable\": \".\", \"value\": 80, \"text\": \"f.\"}, {\"index\": \"g\", \"variable\": \".\", \"value\": 108, \"text\": \"g.\"}, {\"index\": \"h\", \"variable\": \".\", \"value\": 2409, \"text\": \"h.\"}, {\"index\": \"i\", \"variable\": \".\", \"value\": 2489, \"text\": \"i.\"}, {\"index\": \"j\", \"variable\": \".\", \"value\": 71, \"text\": \"j.\"}, {\"index\": \"k\", \"variable\": \".\", \"value\": 363, \"text\": \"k.\"}, {\"index\": \"l\", \"variable\": \".\", \"value\": 1314, \"text\": \"l.\"}, {\"index\": \"m\", \"variable\": \".\", \"value\": 516, \"text\": \"m.\"}, {\"index\": \"n\", \"variable\": \".\", \"value\": 6763, \"text\": \"n.\"}, {\"index\": \"o\", \"variable\": \".\", \"value\": 855, \"text\": \"o.\"}, {\"index\": \"p\", \"variable\": \".\", \"value\": 33, \"text\": \"p.\"}, {\"index\": \"q\", \"variable\": \".\", \"value\": 28, \"text\": \"q.\"}, {\"index\": \"r\", \"variable\": \".\", \"value\": 1377, \"text\": \"r.\"}, {\"index\": \"s\", \"variable\": \".\", \"value\": 1169, \"text\": \"s.\"}, {\"index\": \"t\", \"variable\": \".\", \"value\": 483, \"text\": \"t.\"}, {\"index\": \"u\", \"variable\": \".\", \"value\": 155, \"text\": \"u.\"}, {\"index\": \"v\", \"variable\": \".\", \"value\": 88, \"text\": \"v.\"}, {\"index\": \"w\", \"variable\": \".\", \"value\": 51, \"text\": \"w.\"}, {\"index\": \"x\", \"variable\": \".\", \"value\": 164, \"text\": \"x.\"}, {\"index\": \"y\", \"variable\": \".\", \"value\": 2007, \"text\": \"y.\"}, {\"index\": \"z\", \"variable\": \".\", \"value\": 160, \"text\": \"z.\"}, {\"index\": \".\", \"variable\": \"a\", \"value\": 4410, \"text\": \".a\"}, {\"index\": \"a\", \"variable\": \"a\", \"value\": 556, \"text\": \"aa\"}, {\"index\": \"b\", \"variable\": \"a\", \"value\": 321, \"text\": \"ba\"}, {\"index\": \"c\", \"variable\": \"a\", \"value\": 815, \"text\": \"ca\"}, {\"index\": \"d\", \"variable\": \"a\", \"value\": 1303, \"text\": \"da\"}, {\"index\": \"e\", \"variable\": \"a\", \"value\": 679, \"text\": \"ea\"}, {\"index\": \"f\", \"variable\": \"a\", \"value\": 242, \"text\": \"fa\"}, {\"index\": \"g\", \"variable\": \"a\", \"value\": 330, \"text\": \"ga\"}, {\"index\": \"h\", \"variable\": \"a\", \"value\": 2244, \"text\": \"ha\"}, {\"index\": \"i\", \"variable\": \"a\", \"value\": 2445, \"text\": \"ia\"}, {\"index\": \"j\", \"variable\": \"a\", \"value\": 1473, \"text\": \"ja\"}, {\"index\": \"k\", \"variable\": \"a\", \"value\": 1731, \"text\": \"ka\"}, {\"index\": \"l\", \"variable\": \"a\", \"value\": 2623, \"text\": \"la\"}, {\"index\": \"m\", \"variable\": \"a\", \"value\": 2590, \"text\": \"ma\"}, {\"index\": \"n\", \"variable\": \"a\", \"value\": 2977, \"text\": \"na\"}, {\"index\": \"o\", \"variable\": \"a\", \"value\": 149, \"text\": \"oa\"}, {\"index\": \"p\", \"variable\": \"a\", \"value\": 209, \"text\": \"pa\"}, {\"index\": \"q\", \"variable\": \"a\", \"value\": 13, \"text\": \"qa\"}, {\"index\": \"r\", \"variable\": \"a\", \"value\": 2356, \"text\": \"ra\"}, {\"index\": \"s\", \"variable\": \"a\", \"value\": 1201, \"text\": \"sa\"}, {\"index\": \"t\", \"variable\": \"a\", \"value\": 1027, \"text\": \"ta\"}, {\"index\": \"u\", \"variable\": \"a\", \"value\": 163, \"text\": \"ua\"}, {\"index\": \"v\", \"variable\": \"a\", \"value\": 642, \"text\": \"va\"}, {\"index\": \"w\", \"variable\": \"a\", \"value\": 280, \"text\": \"wa\"}, {\"index\": \"x\", \"variable\": \"a\", \"value\": 103, \"text\": \"xa\"}, {\"index\": \"y\", \"variable\": \"a\", \"value\": 2143, \"text\": \"ya\"}, {\"index\": \"z\", \"variable\": \"a\", \"value\": 860, \"text\": \"za\"}, {\"index\": \".\", \"variable\": \"b\", \"value\": 1306, \"text\": \".b\"}, {\"index\": \"a\", \"variable\": \"b\", \"value\": 541, \"text\": \"ab\"}, {\"index\": \"b\", \"variable\": \"b\", \"value\": 38, \"text\": \"bb\"}, {\"index\": \"c\", \"variable\": \"b\", \"value\": 0, \"text\": \"cb\"}, {\"index\": \"d\", \"variable\": \"b\", \"value\": 1, \"text\": \"db\"}, {\"index\": \"e\", \"variable\": \"b\", \"value\": 121, \"text\": \"eb\"}, {\"index\": \"f\", \"variable\": \"b\", \"value\": 0, \"text\": \"fb\"}, {\"index\": \"g\", \"variable\": \"b\", \"value\": 3, \"text\": \"gb\"}, {\"index\": \"h\", \"variable\": \"b\", \"value\": 8, \"text\": \"hb\"}, {\"index\": \"i\", \"variable\": \"b\", \"value\": 110, \"text\": \"ib\"}, {\"index\": \"j\", \"variable\": \"b\", \"value\": 1, \"text\": \"jb\"}, {\"index\": \"k\", \"variable\": \"b\", \"value\": 2, \"text\": \"kb\"}, {\"index\": \"l\", \"variable\": \"b\", \"value\": 52, \"text\": \"lb\"}, {\"index\": \"m\", \"variable\": \"b\", \"value\": 112, \"text\": \"mb\"}, {\"index\": \"n\", \"variable\": \"b\", \"value\": 8, \"text\": \"nb\"}, {\"index\": \"o\", \"variable\": \"b\", \"value\": 140, \"text\": \"ob\"}, {\"index\": \"p\", \"variable\": \"b\", \"value\": 2, \"text\": \"pb\"}, {\"index\": \"q\", \"variable\": \"b\", \"value\": 0, \"text\": \"qb\"}, {\"index\": \"r\", \"variable\": \"b\", \"value\": 41, \"text\": \"rb\"}, {\"index\": \"s\", \"variable\": \"b\", \"value\": 21, \"text\": \"sb\"}, {\"index\": \"t\", \"variable\": \"b\", \"value\": 1, \"text\": \"tb\"}, {\"index\": \"u\", \"variable\": \"b\", \"value\": 103, \"text\": \"ub\"}, {\"index\": \"v\", \"variable\": \"b\", \"value\": 1, \"text\": \"vb\"}, {\"index\": \"w\", \"variable\": \"b\", \"value\": 1, \"text\": \"wb\"}, {\"index\": \"x\", \"variable\": \"b\", \"value\": 1, \"text\": \"xb\"}, {\"index\": \"y\", \"variable\": \"b\", \"value\": 27, \"text\": \"yb\"}, {\"index\": \"z\", \"variable\": \"b\", \"value\": 4, \"text\": \"zb\"}, {\"index\": \".\", \"variable\": \"c\", \"value\": 1542, \"text\": \".c\"}, {\"index\": \"a\", \"variable\": \"c\", \"value\": 470, \"text\": \"ac\"}, {\"index\": \"b\", \"variable\": \"c\", \"value\": 1, \"text\": \"bc\"}, {\"index\": \"c\", \"variable\": \"c\", \"value\": 42, \"text\": \"cc\"}, {\"index\": \"d\", \"variable\": \"c\", \"value\": 3, \"text\": \"dc\"}, {\"index\": \"e\", \"variable\": \"c\", \"value\": 153, \"text\": \"ec\"}, {\"index\": \"f\", \"variable\": \"c\", \"value\": 0, \"text\": \"fc\"}, {\"index\": \"g\", \"variable\": \"c\", \"value\": 0, \"text\": \"gc\"}, {\"index\": \"h\", \"variable\": \"c\", \"value\": 2, \"text\": \"hc\"}, {\"index\": \"i\", \"variable\": \"c\", \"value\": 509, \"text\": \"ic\"}, {\"index\": \"j\", \"variable\": \"c\", \"value\": 4, \"text\": \"jc\"}, {\"index\": \"k\", \"variable\": \"c\", \"value\": 2, \"text\": \"kc\"}, {\"index\": \"l\", \"variable\": \"c\", \"value\": 25, \"text\": \"lc\"}, {\"index\": \"m\", \"variable\": \"c\", \"value\": 51, \"text\": \"mc\"}, {\"index\": \"n\", \"variable\": \"c\", \"value\": 213, \"text\": \"nc\"}, {\"index\": \"o\", \"variable\": \"c\", \"value\": 114, \"text\": \"oc\"}, {\"index\": \"p\", \"variable\": \"c\", \"value\": 1, \"text\": \"pc\"}, {\"index\": \"q\", \"variable\": \"c\", \"value\": 0, \"text\": \"qc\"}, {\"index\": \"r\", \"variable\": \"c\", \"value\": 99, \"text\": \"rc\"}, {\"index\": \"s\", \"variable\": \"c\", \"value\": 60, \"text\": \"sc\"}, {\"index\": \"t\", \"variable\": \"c\", \"value\": 17, \"text\": \"tc\"}, {\"index\": \"u\", \"variable\": \"c\", \"value\": 103, \"text\": \"uc\"}, {\"index\": \"v\", \"variable\": \"c\", \"value\": 0, \"text\": \"vc\"}, {\"index\": \"w\", \"variable\": \"c\", \"value\": 0, \"text\": \"wc\"}, {\"index\": \"x\", \"variable\": \"c\", \"value\": 4, \"text\": \"xc\"}, {\"index\": \"y\", \"variable\": \"c\", \"value\": 115, \"text\": \"yc\"}, {\"index\": \"z\", \"variable\": \"c\", \"value\": 2, \"text\": \"zc\"}, {\"index\": \".\", \"variable\": \"d\", \"value\": 1690, \"text\": \".d\"}, {\"index\": \"a\", \"variable\": \"d\", \"value\": 1042, \"text\": \"ad\"}, {\"index\": \"b\", \"variable\": \"d\", \"value\": 65, \"text\": \"bd\"}, {\"index\": \"c\", \"variable\": \"d\", \"value\": 1, \"text\": \"cd\"}, {\"index\": \"d\", \"variable\": \"d\", \"value\": 149, \"text\": \"dd\"}, {\"index\": \"e\", \"variable\": \"d\", \"value\": 384, \"text\": \"ed\"}, {\"index\": \"f\", \"variable\": \"d\", \"value\": 0, \"text\": \"fd\"}, {\"index\": \"g\", \"variable\": \"d\", \"value\": 19, \"text\": \"gd\"}, {\"index\": \"h\", \"variable\": \"d\", \"value\": 24, \"text\": \"hd\"}, {\"index\": \"i\", \"variable\": \"d\", \"value\": 440, \"text\": \"id\"}, {\"index\": \"j\", \"variable\": \"d\", \"value\": 4, \"text\": \"jd\"}, {\"index\": \"k\", \"variable\": \"d\", \"value\": 2, \"text\": \"kd\"}, {\"index\": \"l\", \"variable\": \"d\", \"value\": 138, \"text\": \"ld\"}, {\"index\": \"m\", \"variable\": \"d\", \"value\": 24, \"text\": \"md\"}, {\"index\": \"n\", \"variable\": \"d\", \"value\": 704, \"text\": \"nd\"}, {\"index\": \"o\", \"variable\": \"d\", \"value\": 190, \"text\": \"od\"}, {\"index\": \"p\", \"variable\": \"d\", \"value\": 0, \"text\": \"pd\"}, {\"index\": \"q\", \"variable\": \"d\", \"value\": 0, \"text\": \"qd\"}, {\"index\": \"r\", \"variable\": \"d\", \"value\": 187, \"text\": \"rd\"}, {\"index\": \"s\", \"variable\": \"d\", \"value\": 9, \"text\": \"sd\"}, {\"index\": \"t\", \"variable\": \"d\", \"value\": 0, \"text\": \"td\"}, {\"index\": \"u\", \"variable\": \"d\", \"value\": 136, \"text\": \"ud\"}, {\"index\": \"v\", \"variable\": \"d\", \"value\": 1, \"text\": \"vd\"}, {\"index\": \"w\", \"variable\": \"d\", \"value\": 8, \"text\": \"wd\"}, {\"index\": \"x\", \"variable\": \"d\", \"value\": 5, \"text\": \"xd\"}, {\"index\": \"y\", \"variable\": \"d\", \"value\": 272, \"text\": \"yd\"}, {\"index\": \"z\", \"variable\": \"d\", \"value\": 2, \"text\": \"zd\"}, {\"index\": \".\", \"variable\": \"e\", \"value\": 1531, \"text\": \".e\"}, {\"index\": \"a\", \"variable\": \"e\", \"value\": 692, \"text\": \"ae\"}, {\"index\": \"b\", \"variable\": \"e\", \"value\": 655, \"text\": \"be\"}, {\"index\": \"c\", \"variable\": \"e\", \"value\": 551, \"text\": \"ce\"}, {\"index\": \"d\", \"variable\": \"e\", \"value\": 1283, \"text\": \"de\"}, {\"index\": \"e\", \"variable\": \"e\", \"value\": 1271, \"text\": \"ee\"}, {\"index\": \"f\", \"variable\": \"e\", \"value\": 123, \"text\": \"fe\"}, {\"index\": \"g\", \"variable\": \"e\", \"value\": 334, \"text\": \"ge\"}, {\"index\": \"h\", \"variable\": \"e\", \"value\": 674, \"text\": \"he\"}, {\"index\": \"i\", \"variable\": \"e\", \"value\": 1653, \"text\": \"ie\"}, {\"index\": \"j\", \"variable\": \"e\", \"value\": 440, \"text\": \"je\"}, {\"index\": \"k\", \"variable\": \"e\", \"value\": 895, \"text\": \"ke\"}, {\"index\": \"l\", \"variable\": \"e\", \"value\": 2921, \"text\": \"le\"}, {\"index\": \"m\", \"variable\": \"e\", \"value\": 818, \"text\": \"me\"}, {\"index\": \"n\", \"variable\": \"e\", \"value\": 1359, \"text\": \"ne\"}, {\"index\": \"o\", \"variable\": \"e\", \"value\": 132, \"text\": \"oe\"}, {\"index\": \"p\", \"variable\": \"e\", \"value\": 197, \"text\": \"pe\"}, {\"index\": \"q\", \"variable\": \"e\", \"value\": 1, \"text\": \"qe\"}, {\"index\": \"r\", \"variable\": \"e\", \"value\": 1697, \"text\": \"re\"}, {\"index\": \"s\", \"variable\": \"e\", \"value\": 884, \"text\": \"se\"}, {\"index\": \"t\", \"variable\": \"e\", \"value\": 716, \"text\": \"te\"}, {\"index\": \"u\", \"variable\": \"e\", \"value\": 169, \"text\": \"ue\"}, {\"index\": \"v\", \"variable\": \"e\", \"value\": 568, \"text\": \"ve\"}, {\"index\": \"w\", \"variable\": \"e\", \"value\": 149, \"text\": \"we\"}, {\"index\": \"x\", \"variable\": \"e\", \"value\": 36, \"text\": \"xe\"}, {\"index\": \"y\", \"variable\": \"e\", \"value\": 301, \"text\": \"ye\"}, {\"index\": \"z\", \"variable\": \"e\", \"value\": 373, \"text\": \"ze\"}, {\"index\": \".\", \"variable\": \"f\", \"value\": 417, \"text\": \".f\"}, {\"index\": \"a\", \"variable\": \"f\", \"value\": 134, \"text\": \"af\"}, {\"index\": \"b\", \"variable\": \"f\", \"value\": 0, \"text\": \"bf\"}, {\"index\": \"c\", \"variable\": \"f\", \"value\": 0, \"text\": \"cf\"}, {\"index\": \"d\", \"variable\": \"f\", \"value\": 5, \"text\": \"df\"}, {\"index\": \"e\", \"variable\": \"f\", \"value\": 82, \"text\": \"ef\"}, {\"index\": \"f\", \"variable\": \"f\", \"value\": 44, \"text\": \"ff\"}, {\"index\": \"g\", \"variable\": \"f\", \"value\": 1, \"text\": \"gf\"}, {\"index\": \"h\", \"variable\": \"f\", \"value\": 2, \"text\": \"hf\"}, {\"index\": \"i\", \"variable\": \"f\", \"value\": 101, \"text\": \"if\"}, {\"index\": \"j\", \"variable\": \"f\", \"value\": 0, \"text\": \"jf\"}, {\"index\": \"k\", \"variable\": \"f\", \"value\": 1, \"text\": \"kf\"}, {\"index\": \"l\", \"variable\": \"f\", \"value\": 22, \"text\": \"lf\"}, {\"index\": \"m\", \"variable\": \"f\", \"value\": 1, \"text\": \"mf\"}, {\"index\": \"n\", \"variable\": \"f\", \"value\": 11, \"text\": \"nf\"}, {\"index\": \"o\", \"variable\": \"f\", \"value\": 34, \"text\": \"of\"}, {\"index\": \"p\", \"variable\": \"f\", \"value\": 1, \"text\": \"pf\"}, {\"index\": \"q\", \"variable\": \"f\", \"value\": 0, \"text\": \"qf\"}, {\"index\": \"r\", \"variable\": \"f\", \"value\": 9, \"text\": \"rf\"}, {\"index\": \"s\", \"variable\": \"f\", \"value\": 2, \"text\": \"sf\"}, {\"index\": \"t\", \"variable\": \"f\", \"value\": 2, \"text\": \"tf\"}, {\"index\": \"u\", \"variable\": \"f\", \"value\": 19, \"text\": \"uf\"}, {\"index\": \"v\", \"variable\": \"f\", \"value\": 0, \"text\": \"vf\"}, {\"index\": \"w\", \"variable\": \"f\", \"value\": 2, \"text\": \"wf\"}, {\"index\": \"x\", \"variable\": \"f\", \"value\": 3, \"text\": \"xf\"}, {\"index\": \"y\", \"variable\": \"f\", \"value\": 12, \"text\": \"yf\"}, {\"index\": \"z\", \"variable\": \"f\", \"value\": 0, \"text\": \"zf\"}, {\"index\": \".\", \"variable\": \"g\", \"value\": 669, \"text\": \".g\"}, {\"index\": \"a\", \"variable\": \"g\", \"value\": 168, \"text\": \"ag\"}, {\"index\": \"b\", \"variable\": \"g\", \"value\": 0, \"text\": \"bg\"}, {\"index\": \"c\", \"variable\": \"g\", \"value\": 2, \"text\": \"cg\"}, {\"index\": \"d\", \"variable\": \"g\", \"value\": 25, \"text\": \"dg\"}, {\"index\": \"e\", \"variable\": \"g\", \"value\": 125, \"text\": \"eg\"}, {\"index\": \"f\", \"variable\": \"g\", \"value\": 1, \"text\": \"fg\"}, {\"index\": \"g\", \"variable\": \"g\", \"value\": 25, \"text\": \"gg\"}, {\"index\": \"h\", \"variable\": \"g\", \"value\": 2, \"text\": \"hg\"}, {\"index\": \"i\", \"variable\": \"g\", \"value\": 428, \"text\": \"ig\"}, {\"index\": \"j\", \"variable\": \"g\", \"value\": 0, \"text\": \"jg\"}, {\"index\": \"k\", \"variable\": \"g\", \"value\": 0, \"text\": \"kg\"}, {\"index\": \"l\", \"variable\": \"g\", \"value\": 6, \"text\": \"lg\"}, {\"index\": \"m\", \"variable\": \"g\", \"value\": 0, \"text\": \"mg\"}, {\"index\": \"n\", \"variable\": \"g\", \"value\": 273, \"text\": \"ng\"}, {\"index\": \"o\", \"variable\": \"g\", \"value\": 44, \"text\": \"og\"}, {\"index\": \"p\", \"variable\": \"g\", \"value\": 0, \"text\": \"pg\"}, {\"index\": \"q\", \"variable\": \"g\", \"value\": 0, \"text\": \"qg\"}, {\"index\": \"r\", \"variable\": \"g\", \"value\": 76, \"text\": \"rg\"}, {\"index\": \"s\", \"variable\": \"g\", \"value\": 2, \"text\": \"sg\"}, {\"index\": \"t\", \"variable\": \"g\", \"value\": 2, \"text\": \"tg\"}, {\"index\": \"u\", \"variable\": \"g\", \"value\": 47, \"text\": \"ug\"}, {\"index\": \"v\", \"variable\": \"g\", \"value\": 0, \"text\": \"vg\"}, {\"index\": \"w\", \"variable\": \"g\", \"value\": 1, \"text\": \"wg\"}, {\"index\": \"x\", \"variable\": \"g\", \"value\": 0, \"text\": \"xg\"}, {\"index\": \"y\", \"variable\": \"g\", \"value\": 30, \"text\": \"yg\"}, {\"index\": \"z\", \"variable\": \"g\", \"value\": 1, \"text\": \"zg\"}, {\"index\": \".\", \"variable\": \"h\", \"value\": 874, \"text\": \".h\"}, {\"index\": \"a\", \"variable\": \"h\", \"value\": 2332, \"text\": \"ah\"}, {\"index\": \"b\", \"variable\": \"h\", \"value\": 41, \"text\": \"bh\"}, {\"index\": \"c\", \"variable\": \"h\", \"value\": 664, \"text\": \"ch\"}, {\"index\": \"d\", \"variable\": \"h\", \"value\": 118, \"text\": \"dh\"}, {\"index\": \"e\", \"variable\": \"h\", \"value\": 152, \"text\": \"eh\"}, {\"index\": \"f\", \"variable\": \"h\", \"value\": 1, \"text\": \"fh\"}, {\"index\": \"g\", \"variable\": \"h\", \"value\": 360, \"text\": \"gh\"}, {\"index\": \"h\", \"variable\": \"h\", \"value\": 1, \"text\": \"hh\"}, {\"index\": \"i\", \"variable\": \"h\", \"value\": 95, \"text\": \"ih\"}, {\"index\": \"j\", \"variable\": \"h\", \"value\": 45, \"text\": \"jh\"}, {\"index\": \"k\", \"variable\": \"h\", \"value\": 307, \"text\": \"kh\"}, {\"index\": \"l\", \"variable\": \"h\", \"value\": 19, \"text\": \"lh\"}, {\"index\": \"m\", \"variable\": \"h\", \"value\": 5, \"text\": \"mh\"}, {\"index\": \"n\", \"variable\": \"h\", \"value\": 26, \"text\": \"nh\"}, {\"index\": \"o\", \"variable\": \"h\", \"value\": 171, \"text\": \"oh\"}, {\"index\": \"p\", \"variable\": \"h\", \"value\": 204, \"text\": \"ph\"}, {\"index\": \"q\", \"variable\": \"h\", \"value\": 0, \"text\": \"qh\"}, {\"index\": \"r\", \"variable\": \"h\", \"value\": 121, \"text\": \"rh\"}, {\"index\": \"s\", \"variable\": \"h\", \"value\": 1285, \"text\": \"sh\"}, {\"index\": \"t\", \"variable\": \"h\", \"value\": 647, \"text\": \"th\"}, {\"index\": \"u\", \"variable\": \"h\", \"value\": 58, \"text\": \"uh\"}, {\"index\": \"v\", \"variable\": \"h\", \"value\": 1, \"text\": \"vh\"}, {\"index\": \"w\", \"variable\": \"h\", \"value\": 23, \"text\": \"wh\"}, {\"index\": \"x\", \"variable\": \"h\", \"value\": 1, \"text\": \"xh\"}, {\"index\": \"y\", \"variable\": \"h\", \"value\": 22, \"text\": \"yh\"}, {\"index\": \"z\", \"variable\": \"h\", \"value\": 43, \"text\": \"zh\"}, {\"index\": \".\", \"variable\": \"i\", \"value\": 591, \"text\": \".i\"}, {\"index\": \"a\", \"variable\": \"i\", \"value\": 1650, \"text\": \"ai\"}, {\"index\": \"b\", \"variable\": \"i\", \"value\": 217, \"text\": \"bi\"}, {\"index\": \"c\", \"variable\": \"i\", \"value\": 271, \"text\": \"ci\"}, {\"index\": \"d\", \"variable\": \"i\", \"value\": 674, \"text\": \"di\"}, {\"index\": \"e\", \"variable\": \"i\", \"value\": 818, \"text\": \"ei\"}, {\"index\": \"f\", \"variable\": \"i\", \"value\": 160, \"text\": \"fi\"}, {\"index\": \"g\", \"variable\": \"i\", \"value\": 190, \"text\": \"gi\"}, {\"index\": \"h\", \"variable\": \"i\", \"value\": 729, \"text\": \"hi\"}, {\"index\": \"i\", \"variable\": \"i\", \"value\": 82, \"text\": \"ii\"}, {\"index\": \"j\", \"variable\": \"i\", \"value\": 119, \"text\": \"ji\"}, {\"index\": \"k\", \"variable\": \"i\", \"value\": 509, \"text\": \"ki\"}, {\"index\": \"l\", \"variable\": \"i\", \"value\": 2480, \"text\": \"li\"}, {\"index\": \"m\", \"variable\": \"i\", \"value\": 1256, \"text\": \"mi\"}, {\"index\": \"n\", \"variable\": \"i\", \"value\": 1725, \"text\": \"ni\"}, {\"index\": \"o\", \"variable\": \"i\", \"value\": 69, \"text\": \"oi\"}, {\"index\": \"p\", \"variable\": \"i\", \"value\": 61, \"text\": \"pi\"}, {\"index\": \"q\", \"variable\": \"i\", \"value\": 13, \"text\": \"qi\"}, {\"index\": \"r\", \"variable\": \"i\", \"value\": 3033, \"text\": \"ri\"}, {\"index\": \"s\", \"variable\": \"i\", \"value\": 684, \"text\": \"si\"}, {\"index\": \"t\", \"variable\": \"i\", \"value\": 532, \"text\": \"ti\"}, {\"index\": \"u\", \"variable\": \"i\", \"value\": 121, \"text\": \"ui\"}, {\"index\": \"v\", \"variable\": \"i\", \"value\": 911, \"text\": \"vi\"}, {\"index\": \"w\", \"variable\": \"i\", \"value\": 148, \"text\": \"wi\"}, {\"index\": \"x\", \"variable\": \"i\", \"value\": 102, \"text\": \"xi\"}, {\"index\": \"y\", \"variable\": \"i\", \"value\": 192, \"text\": \"yi\"}, {\"index\": \"z\", \"variable\": \"i\", \"value\": 364, \"text\": \"zi\"}, {\"index\": \".\", \"variable\": \"j\", \"value\": 2422, \"text\": \".j\"}, {\"index\": \"a\", \"variable\": \"j\", \"value\": 175, \"text\": \"aj\"}, {\"index\": \"b\", \"variable\": \"j\", \"value\": 1, \"text\": \"bj\"}, {\"index\": \"c\", \"variable\": \"j\", \"value\": 3, \"text\": \"cj\"}, {\"index\": \"d\", \"variable\": \"j\", \"value\": 9, \"text\": \"dj\"}, {\"index\": \"e\", \"variable\": \"j\", \"value\": 55, \"text\": \"ej\"}, {\"index\": \"f\", \"variable\": \"j\", \"value\": 0, \"text\": \"fj\"}, {\"index\": \"g\", \"variable\": \"j\", \"value\": 3, \"text\": \"gj\"}, {\"index\": \"h\", \"variable\": \"j\", \"value\": 9, \"text\": \"hj\"}, {\"index\": \"i\", \"variable\": \"j\", \"value\": 76, \"text\": \"ij\"}, {\"index\": \"j\", \"variable\": \"j\", \"value\": 2, \"text\": \"jj\"}, {\"index\": \"k\", \"variable\": \"j\", \"value\": 2, \"text\": \"kj\"}, {\"index\": \"l\", \"variable\": \"j\", \"value\": 6, \"text\": \"lj\"}, {\"index\": \"m\", \"variable\": \"j\", \"value\": 7, \"text\": \"mj\"}, {\"index\": \"n\", \"variable\": \"j\", \"value\": 44, \"text\": \"nj\"}, {\"index\": \"o\", \"variable\": \"j\", \"value\": 16, \"text\": \"oj\"}, {\"index\": \"p\", \"variable\": \"j\", \"value\": 1, \"text\": \"pj\"}, {\"index\": \"q\", \"variable\": \"j\", \"value\": 0, \"text\": \"qj\"}, {\"index\": \"r\", \"variable\": \"j\", \"value\": 25, \"text\": \"rj\"}, {\"index\": \"s\", \"variable\": \"j\", \"value\": 2, \"text\": \"sj\"}, {\"index\": \"t\", \"variable\": \"j\", \"value\": 3, \"text\": \"tj\"}, {\"index\": \"u\", \"variable\": \"j\", \"value\": 14, \"text\": \"uj\"}, {\"index\": \"v\", \"variable\": \"j\", \"value\": 0, \"text\": \"vj\"}, {\"index\": \"w\", \"variable\": \"j\", \"value\": 0, \"text\": \"wj\"}, {\"index\": \"x\", \"variable\": \"j\", \"value\": 0, \"text\": \"xj\"}, {\"index\": \"y\", \"variable\": \"j\", \"value\": 23, \"text\": \"yj\"}, {\"index\": \"z\", \"variable\": \"j\", \"value\": 2, \"text\": \"zj\"}, {\"index\": \".\", \"variable\": \"k\", \"value\": 2963, \"text\": \".k\"}, {\"index\": \"a\", \"variable\": \"k\", \"value\": 568, \"text\": \"ak\"}, {\"index\": \"b\", \"variable\": \"k\", \"value\": 0, \"text\": \"bk\"}, {\"index\": \"c\", \"variable\": \"k\", \"value\": 316, \"text\": \"ck\"}, {\"index\": \"d\", \"variable\": \"k\", \"value\": 3, \"text\": \"dk\"}, {\"index\": \"e\", \"variable\": \"k\", \"value\": 178, \"text\": \"ek\"}, {\"index\": \"f\", \"variable\": \"k\", \"value\": 2, \"text\": \"fk\"}, {\"index\": \"g\", \"variable\": \"k\", \"value\": 0, \"text\": \"gk\"}, {\"index\": \"h\", \"variable\": \"k\", \"value\": 29, \"text\": \"hk\"}, {\"index\": \"i\", \"variable\": \"k\", \"value\": 445, \"text\": \"ik\"}, {\"index\": \"j\", \"variable\": \"k\", \"value\": 2, \"text\": \"jk\"}, {\"index\": \"k\", \"variable\": \"k\", \"value\": 20, \"text\": \"kk\"}, {\"index\": \"l\", \"variable\": \"k\", \"value\": 24, \"text\": \"lk\"}, {\"index\": \"m\", \"variable\": \"k\", \"value\": 1, \"text\": \"mk\"}, {\"index\": \"n\", \"variable\": \"k\", \"value\": 58, \"text\": \"nk\"}, {\"index\": \"o\", \"variable\": \"k\", \"value\": 68, \"text\": \"ok\"}, {\"index\": \"p\", \"variable\": \"k\", \"value\": 1, \"text\": \"pk\"}, {\"index\": \"q\", \"variable\": \"k\", \"value\": 0, \"text\": \"qk\"}, {\"index\": \"r\", \"variable\": \"k\", \"value\": 90, \"text\": \"rk\"}, {\"index\": \"s\", \"variable\": \"k\", \"value\": 82, \"text\": \"sk\"}, {\"index\": \"t\", \"variable\": \"k\", \"value\": 0, \"text\": \"tk\"}, {\"index\": \"u\", \"variable\": \"k\", \"value\": 93, \"text\": \"uk\"}, {\"index\": \"v\", \"variable\": \"k\", \"value\": 3, \"text\": \"vk\"}, {\"index\": \"w\", \"variable\": \"k\", \"value\": 6, \"text\": \"wk\"}, {\"index\": \"x\", \"variable\": \"k\", \"value\": 0, \"text\": \"xk\"}, {\"index\": \"y\", \"variable\": \"k\", \"value\": 86, \"text\": \"yk\"}, {\"index\": \"z\", \"variable\": \"k\", \"value\": 2, \"text\": \"zk\"}, {\"index\": \".\", \"variable\": \"l\", \"value\": 1572, \"text\": \".l\"}, {\"index\": \"a\", \"variable\": \"l\", \"value\": 2528, \"text\": \"al\"}, {\"index\": \"b\", \"variable\": \"l\", \"value\": 103, \"text\": \"bl\"}, {\"index\": \"c\", \"variable\": \"l\", \"value\": 116, \"text\": \"cl\"}, {\"index\": \"d\", \"variable\": \"l\", \"value\": 60, \"text\": \"dl\"}, {\"index\": \"e\", \"variable\": \"l\", \"value\": 3248, \"text\": \"el\"}, {\"index\": \"f\", \"variable\": \"l\", \"value\": 20, \"text\": \"fl\"}, {\"index\": \"g\", \"variable\": \"l\", \"value\": 32, \"text\": \"gl\"}, {\"index\": \"h\", \"variable\": \"l\", \"value\": 185, \"text\": \"hl\"}, {\"index\": \"i\", \"variable\": \"l\", \"value\": 1345, \"text\": \"il\"}, {\"index\": \"j\", \"variable\": \"l\", \"value\": 9, \"text\": \"jl\"}, {\"index\": \"k\", \"variable\": \"l\", \"value\": 139, \"text\": \"kl\"}, {\"index\": \"l\", \"variable\": \"l\", \"value\": 1345, \"text\": \"ll\"}, {\"index\": \"m\", \"variable\": \"l\", \"value\": 5, \"text\": \"ml\"}, {\"index\": \"n\", \"variable\": \"l\", \"value\": 195, \"text\": \"nl\"}, {\"index\": \"o\", \"variable\": \"l\", \"value\": 619, \"text\": \"ol\"}, {\"index\": \"p\", \"variable\": \"l\", \"value\": 16, \"text\": \"pl\"}, {\"index\": \"q\", \"variable\": \"l\", \"value\": 1, \"text\": \"ql\"}, {\"index\": \"r\", \"variable\": \"l\", \"value\": 413, \"text\": \"rl\"}, {\"index\": \"s\", \"variable\": \"l\", \"value\": 279, \"text\": \"sl\"}, {\"index\": \"t\", \"variable\": \"l\", \"value\": 134, \"text\": \"tl\"}, {\"index\": \"u\", \"variable\": \"l\", \"value\": 301, \"text\": \"ul\"}, {\"index\": \"v\", \"variable\": \"l\", \"value\": 14, \"text\": \"vl\"}, {\"index\": \"w\", \"variable\": \"l\", \"value\": 13, \"text\": \"wl\"}, {\"index\": \"x\", \"variable\": \"l\", \"value\": 39, \"text\": \"xl\"}, {\"index\": \"y\", \"variable\": \"l\", \"value\": 1104, \"text\": \"yl\"}, {\"index\": \"z\", \"variable\": \"l\", \"value\": 123, \"text\": \"zl\"}, {\"index\": \".\", \"variable\": \"m\", \"value\": 2538, \"text\": \".m\"}, {\"index\": \"a\", \"variable\": \"m\", \"value\": 1634, \"text\": \"am\"}, {\"index\": \"b\", \"variable\": \"m\", \"value\": 0, \"text\": \"bm\"}, {\"index\": \"c\", \"variable\": \"m\", \"value\": 0, \"text\": \"cm\"}, {\"index\": \"d\", \"variable\": \"m\", \"value\": 30, \"text\": \"dm\"}, {\"index\": \"e\", \"variable\": \"m\", \"value\": 769, \"text\": \"em\"}, {\"index\": \"f\", \"variable\": \"m\", \"value\": 0, \"text\": \"fm\"}, {\"index\": \"g\", \"variable\": \"m\", \"value\": 6, \"text\": \"gm\"}, {\"index\": \"h\", \"variable\": \"m\", \"value\": 117, \"text\": \"hm\"}, {\"index\": \"i\", \"variable\": \"m\", \"value\": 427, \"text\": \"im\"}, {\"index\": \"j\", \"variable\": \"m\", \"value\": 5, \"text\": \"jm\"}, {\"index\": \"k\", \"variable\": \"m\", \"value\": 9, \"text\": \"km\"}, {\"index\": \"l\", \"variable\": \"m\", \"value\": 60, \"text\": \"lm\"}, {\"index\": \"m\", \"variable\": \"m\", \"value\": 168, \"text\": \"mm\"}, {\"index\": \"n\", \"variable\": \"m\", \"value\": 19, \"text\": \"nm\"}, {\"index\": \"o\", \"variable\": \"m\", \"value\": 261, \"text\": \"om\"}, {\"index\": \"p\", \"variable\": \"m\", \"value\": 1, \"text\": \"pm\"}, {\"index\": \"q\", \"variable\": \"m\", \"value\": 2, \"text\": \"qm\"}, {\"index\": \"r\", \"variable\": \"m\", \"value\": 162, \"text\": \"rm\"}, {\"index\": \"s\", \"variable\": \"m\", \"value\": 90, \"text\": \"sm\"}, {\"index\": \"t\", \"variable\": \"m\", \"value\": 4, \"text\": \"tm\"}, {\"index\": \"u\", \"variable\": \"m\", \"value\": 154, \"text\": \"um\"}, {\"index\": \"v\", \"variable\": \"m\", \"value\": 0, \"text\": \"vm\"}, {\"index\": \"w\", \"variable\": \"m\", \"value\": 2, \"text\": \"wm\"}, {\"index\": \"x\", \"variable\": \"m\", \"value\": 1, \"text\": \"xm\"}, {\"index\": \"y\", \"variable\": \"m\", \"value\": 148, \"text\": \"ym\"}, {\"index\": \"z\", \"variable\": \"m\", \"value\": 35, \"text\": \"zm\"}, {\"index\": \".\", \"variable\": \"n\", \"value\": 1146, \"text\": \".n\"}, {\"index\": \"a\", \"variable\": \"n\", \"value\": 5438, \"text\": \"an\"}, {\"index\": \"b\", \"variable\": \"n\", \"value\": 4, \"text\": \"bn\"}, {\"index\": \"c\", \"variable\": \"n\", \"value\": 0, \"text\": \"cn\"}, {\"index\": \"d\", \"variable\": \"n\", \"value\": 31, \"text\": \"dn\"}, {\"index\": \"e\", \"variable\": \"n\", \"value\": 2675, \"text\": \"en\"}, {\"index\": \"f\", \"variable\": \"n\", \"value\": 4, \"text\": \"fn\"}, {\"index\": \"g\", \"variable\": \"n\", \"value\": 27, \"text\": \"gn\"}, {\"index\": \"h\", \"variable\": \"n\", \"value\": 138, \"text\": \"hn\"}, {\"index\": \"i\", \"variable\": \"n\", \"value\": 2126, \"text\": \"in\"}, {\"index\": \"j\", \"variable\": \"n\", \"value\": 2, \"text\": \"jn\"}, {\"index\": \"k\", \"variable\": \"n\", \"value\": 26, \"text\": \"kn\"}, {\"index\": \"l\", \"variable\": \"n\", \"value\": 14, \"text\": \"ln\"}, {\"index\": \"m\", \"variable\": \"n\", \"value\": 20, \"text\": \"mn\"}, {\"index\": \"n\", \"variable\": \"n\", \"value\": 1906, \"text\": \"nn\"}, {\"index\": \"o\", \"variable\": \"n\", \"value\": 2411, \"text\": \"on\"}, {\"index\": \"p\", \"variable\": \"n\", \"value\": 1, \"text\": \"pn\"}, {\"index\": \"q\", \"variable\": \"n\", \"value\": 0, \"text\": \"qn\"}, {\"index\": \"r\", \"variable\": \"n\", \"value\": 140, \"text\": \"rn\"}, {\"index\": \"s\", \"variable\": \"n\", \"value\": 24, \"text\": \"sn\"}, {\"index\": \"t\", \"variable\": \"n\", \"value\": 22, \"text\": \"tn\"}, {\"index\": \"u\", \"variable\": \"n\", \"value\": 275, \"text\": \"un\"}, {\"index\": \"v\", \"variable\": \"n\", \"value\": 8, \"text\": \"vn\"}, {\"index\": \"w\", \"variable\": \"n\", \"value\": 58, \"text\": \"wn\"}, {\"index\": \"x\", \"variable\": \"n\", \"value\": 1, \"text\": \"xn\"}, {\"index\": \"y\", \"variable\": \"n\", \"value\": 1826, \"text\": \"yn\"}, {\"index\": \"z\", \"variable\": \"n\", \"value\": 4, \"text\": \"zn\"}, {\"index\": \".\", \"variable\": \"o\", \"value\": 394, \"text\": \".o\"}, {\"index\": \"a\", \"variable\": \"o\", \"value\": 63, \"text\": \"ao\"}, {\"index\": \"b\", \"variable\": \"o\", \"value\": 105, \"text\": \"bo\"}, {\"index\": \"c\", \"variable\": \"o\", \"value\": 380, \"text\": \"co\"}, {\"index\": \"d\", \"variable\": \"o\", \"value\": 378, \"text\": \"do\"}, {\"index\": \"e\", \"variable\": \"o\", \"value\": 269, \"text\": \"eo\"}, {\"index\": \"f\", \"variable\": \"o\", \"value\": 60, \"text\": \"fo\"}, {\"index\": \"g\", \"variable\": \"o\", \"value\": 83, \"text\": \"go\"}, {\"index\": \"h\", \"variable\": \"o\", \"value\": 287, \"text\": \"ho\"}, {\"index\": \"i\", \"variable\": \"o\", \"value\": 588, \"text\": \"io\"}, {\"index\": \"j\", \"variable\": \"o\", \"value\": 479, \"text\": \"jo\"}, {\"index\": \"k\", \"variable\": \"o\", \"value\": 344, \"text\": \"ko\"}, {\"index\": \"l\", \"variable\": \"o\", \"value\": 692, \"text\": \"lo\"}, {\"index\": \"m\", \"variable\": \"o\", \"value\": 452, \"text\": \"mo\"}, {\"index\": \"n\", \"variable\": \"o\", \"value\": 496, \"text\": \"no\"}, {\"index\": \"o\", \"variable\": \"o\", \"value\": 115, \"text\": \"oo\"}, {\"index\": \"p\", \"variable\": \"o\", \"value\": 59, \"text\": \"po\"}, {\"index\": \"q\", \"variable\": \"o\", \"value\": 2, \"text\": \"qo\"}, {\"index\": \"r\", \"variable\": \"o\", \"value\": 869, \"text\": \"ro\"}, {\"index\": \"s\", \"variable\": \"o\", \"value\": 531, \"text\": \"so\"}, {\"index\": \"t\", \"variable\": \"o\", \"value\": 667, \"text\": \"to\"}, {\"index\": \"u\", \"variable\": \"o\", \"value\": 10, \"text\": \"uo\"}, {\"index\": \"v\", \"variable\": \"o\", \"value\": 153, \"text\": \"vo\"}, {\"index\": \"w\", \"variable\": \"o\", \"value\": 36, \"text\": \"wo\"}, {\"index\": \"x\", \"variable\": \"o\", \"value\": 41, \"text\": \"xo\"}, {\"index\": \"y\", \"variable\": \"o\", \"value\": 271, \"text\": \"yo\"}, {\"index\": \"z\", \"variable\": \"o\", \"value\": 110, \"text\": \"zo\"}, {\"index\": \".\", \"variable\": \"p\", \"value\": 515, \"text\": \".p\"}, {\"index\": \"a\", \"variable\": \"p\", \"value\": 82, \"text\": \"ap\"}, {\"index\": \"b\", \"variable\": \"p\", \"value\": 0, \"text\": \"bp\"}, {\"index\": \"c\", \"variable\": \"p\", \"value\": 1, \"text\": \"cp\"}, {\"index\": \"d\", \"variable\": \"p\", \"value\": 0, \"text\": \"dp\"}, {\"index\": \"e\", \"variable\": \"p\", \"value\": 83, \"text\": \"ep\"}, {\"index\": \"f\", \"variable\": \"p\", \"value\": 0, \"text\": \"fp\"}, {\"index\": \"g\", \"variable\": \"p\", \"value\": 0, \"text\": \"gp\"}, {\"index\": \"h\", \"variable\": \"p\", \"value\": 1, \"text\": \"hp\"}, {\"index\": \"i\", \"variable\": \"p\", \"value\": 53, \"text\": \"ip\"}, {\"index\": \"j\", \"variable\": \"p\", \"value\": 1, \"text\": \"jp\"}, {\"index\": \"k\", \"variable\": \"p\", \"value\": 0, \"text\": \"kp\"}, {\"index\": \"l\", \"variable\": \"p\", \"value\": 15, \"text\": \"lp\"}, {\"index\": \"m\", \"variable\": \"p\", \"value\": 38, \"text\": \"mp\"}, {\"index\": \"n\", \"variable\": \"p\", \"value\": 5, \"text\": \"np\"}, {\"index\": \"o\", \"variable\": \"p\", \"value\": 95, \"text\": \"op\"}, {\"index\": \"p\", \"variable\": \"p\", \"value\": 39, \"text\": \"pp\"}, {\"index\": \"q\", \"variable\": \"p\", \"value\": 0, \"text\": \"qp\"}, {\"index\": \"r\", \"variable\": \"p\", \"value\": 14, \"text\": \"rp\"}, {\"index\": \"s\", \"variable\": \"p\", \"value\": 51, \"text\": \"sp\"}, {\"index\": \"t\", \"variable\": \"p\", \"value\": 0, \"text\": \"tp\"}, {\"index\": \"u\", \"variable\": \"p\", \"value\": 16, \"text\": \"up\"}, {\"index\": \"v\", \"variable\": \"p\", \"value\": 0, \"text\": \"vp\"}, {\"index\": \"w\", \"variable\": \"p\", \"value\": 0, \"text\": \"wp\"}, {\"index\": \"x\", \"variable\": \"p\", \"value\": 0, \"text\": \"xp\"}, {\"index\": \"y\", \"variable\": \"p\", \"value\": 15, \"text\": \"yp\"}, {\"index\": \"z\", \"variable\": \"p\", \"value\": 2, \"text\": \"zp\"}, {\"index\": \".\", \"variable\": \"q\", \"value\": 92, \"text\": \".q\"}, {\"index\": \"a\", \"variable\": \"q\", \"value\": 60, \"text\": \"aq\"}, {\"index\": \"b\", \"variable\": \"q\", \"value\": 0, \"text\": \"bq\"}, {\"index\": \"c\", \"variable\": \"q\", \"value\": 11, \"text\": \"cq\"}, {\"index\": \"d\", \"variable\": \"q\", \"value\": 1, \"text\": \"dq\"}, {\"index\": \"e\", \"variable\": \"q\", \"value\": 14, \"text\": \"eq\"}, {\"index\": \"f\", \"variable\": \"q\", \"value\": 0, \"text\": \"fq\"}, {\"index\": \"g\", \"variable\": \"q\", \"value\": 0, \"text\": \"gq\"}, {\"index\": \"h\", \"variable\": \"q\", \"value\": 1, \"text\": \"hq\"}, {\"index\": \"i\", \"variable\": \"q\", \"value\": 52, \"text\": \"iq\"}, {\"index\": \"j\", \"variable\": \"q\", \"value\": 0, \"text\": \"jq\"}, {\"index\": \"k\", \"variable\": \"q\", \"value\": 0, \"text\": \"kq\"}, {\"index\": \"l\", \"variable\": \"q\", \"value\": 3, \"text\": \"lq\"}, {\"index\": \"m\", \"variable\": \"q\", \"value\": 0, \"text\": \"mq\"}, {\"index\": \"n\", \"variable\": \"q\", \"value\": 2, \"text\": \"nq\"}, {\"index\": \"o\", \"variable\": \"q\", \"value\": 3, \"text\": \"oq\"}, {\"index\": \"p\", \"variable\": \"q\", \"value\": 0, \"text\": \"pq\"}, {\"index\": \"q\", \"variable\": \"q\", \"value\": 0, \"text\": \"qq\"}, {\"index\": \"r\", \"variable\": \"q\", \"value\": 16, \"text\": \"rq\"}, {\"index\": \"s\", \"variable\": \"q\", \"value\": 1, \"text\": \"sq\"}, {\"index\": \"t\", \"variable\": \"q\", \"value\": 0, \"text\": \"tq\"}, {\"index\": \"u\", \"variable\": \"q\", \"value\": 10, \"text\": \"uq\"}, {\"index\": \"v\", \"variable\": \"q\", \"value\": 0, \"text\": \"vq\"}, {\"index\": \"w\", \"variable\": \"q\", \"value\": 0, \"text\": \"wq\"}, {\"index\": \"x\", \"variable\": \"q\", \"value\": 0, \"text\": \"xq\"}, {\"index\": \"y\", \"variable\": \"q\", \"value\": 6, \"text\": \"yq\"}, {\"index\": \"z\", \"variable\": \"q\", \"value\": 0, \"text\": \"zq\"}, {\"index\": \".\", \"variable\": \"r\", \"value\": 1639, \"text\": \".r\"}, {\"index\": \"a\", \"variable\": \"r\", \"value\": 3264, \"text\": \"ar\"}, {\"index\": \"b\", \"variable\": \"r\", \"value\": 842, \"text\": \"br\"}, {\"index\": \"c\", \"variable\": \"r\", \"value\": 76, \"text\": \"cr\"}, {\"index\": \"d\", \"variable\": \"r\", \"value\": 424, \"text\": \"dr\"}, {\"index\": \"e\", \"variable\": \"r\", \"value\": 1958, \"text\": \"er\"}, {\"index\": \"f\", \"variable\": \"r\", \"value\": 114, \"text\": \"fr\"}, {\"index\": \"g\", \"variable\": \"r\", \"value\": 201, \"text\": \"gr\"}, {\"index\": \"h\", \"variable\": \"r\", \"value\": 204, \"text\": \"hr\"}, {\"index\": \"i\", \"variable\": \"r\", \"value\": 849, \"text\": \"ir\"}, {\"index\": \"j\", \"variable\": \"r\", \"value\": 11, \"text\": \"jr\"}, {\"index\": \"k\", \"variable\": \"r\", \"value\": 109, \"text\": \"kr\"}, {\"index\": \"l\", \"variable\": \"r\", \"value\": 18, \"text\": \"lr\"}, {\"index\": \"m\", \"variable\": \"r\", \"value\": 97, \"text\": \"mr\"}, {\"index\": \"n\", \"variable\": \"r\", \"value\": 44, \"text\": \"nr\"}, {\"index\": \"o\", \"variable\": \"r\", \"value\": 1059, \"text\": \"or\"}, {\"index\": \"p\", \"variable\": \"r\", \"value\": 151, \"text\": \"pr\"}, {\"index\": \"q\", \"variable\": \"r\", \"value\": 1, \"text\": \"qr\"}, {\"index\": \"r\", \"variable\": \"r\", \"value\": 425, \"text\": \"rr\"}, {\"index\": \"s\", \"variable\": \"r\", \"value\": 55, \"text\": \"sr\"}, {\"index\": \"t\", \"variable\": \"r\", \"value\": 352, \"text\": \"tr\"}, {\"index\": \"u\", \"variable\": \"r\", \"value\": 414, \"text\": \"ur\"}, {\"index\": \"v\", \"variable\": \"r\", \"value\": 48, \"text\": \"vr\"}, {\"index\": \"w\", \"variable\": \"r\", \"value\": 22, \"text\": \"wr\"}, {\"index\": \"x\", \"variable\": \"r\", \"value\": 0, \"text\": \"xr\"}, {\"index\": \"y\", \"variable\": \"r\", \"value\": 291, \"text\": \"yr\"}, {\"index\": \"z\", \"variable\": \"r\", \"value\": 32, \"text\": \"zr\"}, {\"index\": \".\", \"variable\": \"s\", \"value\": 2055, \"text\": \".s\"}, {\"index\": \"a\", \"variable\": \"s\", \"value\": 1118, \"text\": \"as\"}, {\"index\": \"b\", \"variable\": \"s\", \"value\": 8, \"text\": \"bs\"}, {\"index\": \"c\", \"variable\": \"s\", \"value\": 5, \"text\": \"cs\"}, {\"index\": \"d\", \"variable\": \"s\", \"value\": 29, \"text\": \"ds\"}, {\"index\": \"e\", \"variable\": \"s\", \"value\": 861, \"text\": \"es\"}, {\"index\": \"f\", \"variable\": \"s\", \"value\": 6, \"text\": \"fs\"}, {\"index\": \"g\", \"variable\": \"s\", \"value\": 30, \"text\": \"gs\"}, {\"index\": \"h\", \"variable\": \"s\", \"value\": 31, \"text\": \"hs\"}, {\"index\": \"i\", \"variable\": \"s\", \"value\": 1316, \"text\": \"is\"}, {\"index\": \"j\", \"variable\": \"s\", \"value\": 7, \"text\": \"js\"}, {\"index\": \"k\", \"variable\": \"s\", \"value\": 95, \"text\": \"ks\"}, {\"index\": \"l\", \"variable\": \"s\", \"value\": 94, \"text\": \"ls\"}, {\"index\": \"m\", \"variable\": \"s\", \"value\": 35, \"text\": \"ms\"}, {\"index\": \"n\", \"variable\": \"s\", \"value\": 278, \"text\": \"ns\"}, {\"index\": \"o\", \"variable\": \"s\", \"value\": 504, \"text\": \"os\"}, {\"index\": \"p\", \"variable\": \"s\", \"value\": 16, \"text\": \"ps\"}, {\"index\": \"q\", \"variable\": \"s\", \"value\": 2, \"text\": \"qs\"}, {\"index\": \"r\", \"variable\": \"s\", \"value\": 190, \"text\": \"rs\"}, {\"index\": \"s\", \"variable\": \"s\", \"value\": 461, \"text\": \"ss\"}, {\"index\": \"t\", \"variable\": \"s\", \"value\": 35, \"text\": \"ts\"}, {\"index\": \"u\", \"variable\": \"s\", \"value\": 474, \"text\": \"us\"}, {\"index\": \"v\", \"variable\": \"s\", \"value\": 0, \"text\": \"vs\"}, {\"index\": \"w\", \"variable\": \"s\", \"value\": 20, \"text\": \"ws\"}, {\"index\": \"x\", \"variable\": \"s\", \"value\": 31, \"text\": \"xs\"}, {\"index\": \"y\", \"variable\": \"s\", \"value\": 401, \"text\": \"ys\"}, {\"index\": \"z\", \"variable\": \"s\", \"value\": 4, \"text\": \"zs\"}, {\"index\": \".\", \"variable\": \"t\", \"value\": 1308, \"text\": \".t\"}, {\"index\": \"a\", \"variable\": \"t\", \"value\": 687, \"text\": \"at\"}, {\"index\": \"b\", \"variable\": \"t\", \"value\": 2, \"text\": \"bt\"}, {\"index\": \"c\", \"variable\": \"t\", \"value\": 35, \"text\": \"ct\"}, {\"index\": \"d\", \"variable\": \"t\", \"value\": 4, \"text\": \"dt\"}, {\"index\": \"e\", \"variable\": \"t\", \"value\": 580, \"text\": \"et\"}, {\"index\": \"f\", \"variable\": \"t\", \"value\": 18, \"text\": \"ft\"}, {\"index\": \"g\", \"variable\": \"t\", \"value\": 31, \"text\": \"gt\"}, {\"index\": \"h\", \"variable\": \"t\", \"value\": 71, \"text\": \"ht\"}, {\"index\": \"i\", \"variable\": \"t\", \"value\": 541, \"text\": \"it\"}, {\"index\": \"j\", \"variable\": \"t\", \"value\": 2, \"text\": \"jt\"}, {\"index\": \"k\", \"variable\": \"t\", \"value\": 17, \"text\": \"kt\"}, {\"index\": \"l\", \"variable\": \"t\", \"value\": 77, \"text\": \"lt\"}, {\"index\": \"m\", \"variable\": \"t\", \"value\": 4, \"text\": \"mt\"}, {\"index\": \"n\", \"variable\": \"t\", \"value\": 443, \"text\": \"nt\"}, {\"index\": \"o\", \"variable\": \"t\", \"value\": 118, \"text\": \"ot\"}, {\"index\": \"p\", \"variable\": \"t\", \"value\": 17, \"text\": \"pt\"}, {\"index\": \"q\", \"variable\": \"t\", \"value\": 0, \"text\": \"qt\"}, {\"index\": \"r\", \"variable\": \"t\", \"value\": 208, \"text\": \"rt\"}, {\"index\": \"s\", \"variable\": \"t\", \"value\": 765, \"text\": \"st\"}, {\"index\": \"t\", \"variable\": \"t\", \"value\": 374, \"text\": \"tt\"}, {\"index\": \"u\", \"variable\": \"t\", \"value\": 82, \"text\": \"ut\"}, {\"index\": \"v\", \"variable\": \"t\", \"value\": 0, \"text\": \"vt\"}, {\"index\": \"w\", \"variable\": \"t\", \"value\": 8, \"text\": \"wt\"}, {\"index\": \"x\", \"variable\": \"t\", \"value\": 70, \"text\": \"xt\"}, {\"index\": \"y\", \"variable\": \"t\", \"value\": 104, \"text\": \"yt\"}, {\"index\": \"z\", \"variable\": \"t\", \"value\": 4, \"text\": \"zt\"}, {\"index\": \".\", \"variable\": \"u\", \"value\": 78, \"text\": \".u\"}, {\"index\": \"a\", \"variable\": \"u\", \"value\": 381, \"text\": \"au\"}, {\"index\": \"b\", \"variable\": \"u\", \"value\": 45, \"text\": \"bu\"}, {\"index\": \"c\", \"variable\": \"u\", \"value\": 35, \"text\": \"cu\"}, {\"index\": \"d\", \"variable\": \"u\", \"value\": 92, \"text\": \"du\"}, {\"index\": \"e\", \"variable\": \"u\", \"value\": 69, \"text\": \"eu\"}, {\"index\": \"f\", \"variable\": \"u\", \"value\": 10, \"text\": \"fu\"}, {\"index\": \"g\", \"variable\": \"u\", \"value\": 85, \"text\": \"gu\"}, {\"index\": \"h\", \"variable\": \"u\", \"value\": 166, \"text\": \"hu\"}, {\"index\": \"i\", \"variable\": \"u\", \"value\": 109, \"text\": \"iu\"}, {\"index\": \"j\", \"variable\": \"u\", \"value\": 202, \"text\": \"ju\"}, {\"index\": \"k\", \"variable\": \"u\", \"value\": 50, \"text\": \"ku\"}, {\"index\": \"l\", \"variable\": \"u\", \"value\": 324, \"text\": \"lu\"}, {\"index\": \"m\", \"variable\": \"u\", \"value\": 139, \"text\": \"mu\"}, {\"index\": \"n\", \"variable\": \"u\", \"value\": 96, \"text\": \"nu\"}, {\"index\": \"o\", \"variable\": \"u\", \"value\": 275, \"text\": \"ou\"}, {\"index\": \"p\", \"variable\": \"u\", \"value\": 4, \"text\": \"pu\"}, {\"index\": \"q\", \"variable\": \"u\", \"value\": 206, \"text\": \"qu\"}, {\"index\": \"r\", \"variable\": \"u\", \"value\": 252, \"text\": \"ru\"}, {\"index\": \"s\", \"variable\": \"u\", \"value\": 185, \"text\": \"su\"}, {\"index\": \"t\", \"variable\": \"u\", \"value\": 78, \"text\": \"tu\"}, {\"index\": \"u\", \"variable\": \"u\", \"value\": 3, \"text\": \"uu\"}, {\"index\": \"v\", \"variable\": \"u\", \"value\": 7, \"text\": \"vu\"}, {\"index\": \"w\", \"variable\": \"u\", \"value\": 25, \"text\": \"wu\"}, {\"index\": \"x\", \"variable\": \"u\", \"value\": 5, \"text\": \"xu\"}, {\"index\": \"y\", \"variable\": \"u\", \"value\": 141, \"text\": \"yu\"}, {\"index\": \"z\", \"variable\": \"u\", \"value\": 73, \"text\": \"zu\"}, {\"index\": \".\", \"variable\": \"v\", \"value\": 376, \"text\": \".v\"}, {\"index\": \"a\", \"variable\": \"v\", \"value\": 834, \"text\": \"av\"}, {\"index\": \"b\", \"variable\": \"v\", \"value\": 0, \"text\": \"bv\"}, {\"index\": \"c\", \"variable\": \"v\", \"value\": 0, \"text\": \"cv\"}, {\"index\": \"d\", \"variable\": \"v\", \"value\": 17, \"text\": \"dv\"}, {\"index\": \"e\", \"variable\": \"v\", \"value\": 463, \"text\": \"ev\"}, {\"index\": \"f\", \"variable\": \"v\", \"value\": 0, \"text\": \"fv\"}, {\"index\": \"g\", \"variable\": \"v\", \"value\": 1, \"text\": \"gv\"}, {\"index\": \"h\", \"variable\": \"v\", \"value\": 39, \"text\": \"hv\"}, {\"index\": \"i\", \"variable\": \"v\", \"value\": 269, \"text\": \"iv\"}, {\"index\": \"j\", \"variable\": \"v\", \"value\": 5, \"text\": \"jv\"}, {\"index\": \"k\", \"variable\": \"v\", \"value\": 2, \"text\": \"kv\"}, {\"index\": \"l\", \"variable\": \"v\", \"value\": 72, \"text\": \"lv\"}, {\"index\": \"m\", \"variable\": \"v\", \"value\": 3, \"text\": \"mv\"}, {\"index\": \"n\", \"variable\": \"v\", \"value\": 55, \"text\": \"nv\"}, {\"index\": \"o\", \"variable\": \"v\", \"value\": 176, \"text\": \"ov\"}, {\"index\": \"p\", \"variable\": \"v\", \"value\": 0, \"text\": \"pv\"}, {\"index\": \"q\", \"variable\": \"v\", \"value\": 0, \"text\": \"qv\"}, {\"index\": \"r\", \"variable\": \"v\", \"value\": 80, \"text\": \"rv\"}, {\"index\": \"s\", \"variable\": \"v\", \"value\": 14, \"text\": \"sv\"}, {\"index\": \"t\", \"variable\": \"v\", \"value\": 15, \"text\": \"tv\"}, {\"index\": \"u\", \"variable\": \"v\", \"value\": 37, \"text\": \"uv\"}, {\"index\": \"v\", \"variable\": \"v\", \"value\": 7, \"text\": \"vv\"}, {\"index\": \"w\", \"variable\": \"v\", \"value\": 0, \"text\": \"wv\"}, {\"index\": \"x\", \"variable\": \"v\", \"value\": 0, \"text\": \"xv\"}, {\"index\": \"y\", \"variable\": \"v\", \"value\": 106, \"text\": \"yv\"}, {\"index\": \"z\", \"variable\": \"v\", \"value\": 2, \"text\": \"zv\"}, {\"index\": \".\", \"variable\": \"w\", \"value\": 307, \"text\": \".w\"}, {\"index\": \"a\", \"variable\": \"w\", \"value\": 161, \"text\": \"aw\"}, {\"index\": \"b\", \"variable\": \"w\", \"value\": 0, \"text\": \"bw\"}, {\"index\": \"c\", \"variable\": \"w\", \"value\": 0, \"text\": \"cw\"}, {\"index\": \"d\", \"variable\": \"w\", \"value\": 23, \"text\": \"dw\"}, {\"index\": \"e\", \"variable\": \"w\", \"value\": 50, \"text\": \"ew\"}, {\"index\": \"f\", \"variable\": \"w\", \"value\": 4, \"text\": \"fw\"}, {\"index\": \"g\", \"variable\": \"w\", \"value\": 26, \"text\": \"gw\"}, {\"index\": \"h\", \"variable\": \"w\", \"value\": 10, \"text\": \"hw\"}, {\"index\": \"i\", \"variable\": \"w\", \"value\": 8, \"text\": \"iw\"}, {\"index\": \"j\", \"variable\": \"w\", \"value\": 6, \"text\": \"jw\"}, {\"index\": \"k\", \"variable\": \"w\", \"value\": 34, \"text\": \"kw\"}, {\"index\": \"l\", \"variable\": \"w\", \"value\": 16, \"text\": \"lw\"}, {\"index\": \"m\", \"variable\": \"w\", \"value\": 2, \"text\": \"mw\"}, {\"index\": \"n\", \"variable\": \"w\", \"value\": 11, \"text\": \"nw\"}, {\"index\": \"o\", \"variable\": \"w\", \"value\": 114, \"text\": \"ow\"}, {\"index\": \"p\", \"variable\": \"w\", \"value\": 0, \"text\": \"pw\"}, {\"index\": \"q\", \"variable\": \"w\", \"value\": 3, \"text\": \"qw\"}, {\"index\": \"r\", \"variable\": \"w\", \"value\": 21, \"text\": \"rw\"}, {\"index\": \"s\", \"variable\": \"w\", \"value\": 24, \"text\": \"sw\"}, {\"index\": \"t\", \"variable\": \"w\", \"value\": 11, \"text\": \"tw\"}, {\"index\": \"u\", \"variable\": \"w\", \"value\": 86, \"text\": \"uw\"}, {\"index\": \"v\", \"variable\": \"w\", \"value\": 0, \"text\": \"vw\"}, {\"index\": \"w\", \"variable\": \"w\", \"value\": 2, \"text\": \"ww\"}, {\"index\": \"x\", \"variable\": \"w\", \"value\": 3, \"text\": \"xw\"}, {\"index\": \"y\", \"variable\": \"w\", \"value\": 4, \"text\": \"yw\"}, {\"index\": \"z\", \"variable\": \"w\", \"value\": 3, \"text\": \"zw\"}, {\"index\": \".\", \"variable\": \"x\", \"value\": 134, \"text\": \".x\"}, {\"index\": \"a\", \"variable\": \"x\", \"value\": 182, \"text\": \"ax\"}, {\"index\": \"b\", \"variable\": \"x\", \"value\": 0, \"text\": \"bx\"}, {\"index\": \"c\", \"variable\": \"x\", \"value\": 3, \"text\": \"cx\"}, {\"index\": \"d\", \"variable\": \"x\", \"value\": 0, \"text\": \"dx\"}, {\"index\": \"e\", \"variable\": \"x\", \"value\": 132, \"text\": \"ex\"}, {\"index\": \"f\", \"variable\": \"x\", \"value\": 0, \"text\": \"fx\"}, {\"index\": \"g\", \"variable\": \"x\", \"value\": 0, \"text\": \"gx\"}, {\"index\": \"h\", \"variable\": \"x\", \"value\": 0, \"text\": \"hx\"}, {\"index\": \"i\", \"variable\": \"x\", \"value\": 89, \"text\": \"ix\"}, {\"index\": \"j\", \"variable\": \"x\", \"value\": 0, \"text\": \"jx\"}, {\"index\": \"k\", \"variable\": \"x\", \"value\": 0, \"text\": \"kx\"}, {\"index\": \"l\", \"variable\": \"x\", \"value\": 0, \"text\": \"lx\"}, {\"index\": \"m\", \"variable\": \"x\", \"value\": 0, \"text\": \"mx\"}, {\"index\": \"n\", \"variable\": \"x\", \"value\": 6, \"text\": \"nx\"}, {\"index\": \"o\", \"variable\": \"x\", \"value\": 45, \"text\": \"ox\"}, {\"index\": \"p\", \"variable\": \"x\", \"value\": 0, \"text\": \"px\"}, {\"index\": \"q\", \"variable\": \"x\", \"value\": 0, \"text\": \"qx\"}, {\"index\": \"r\", \"variable\": \"x\", \"value\": 3, \"text\": \"rx\"}, {\"index\": \"s\", \"variable\": \"x\", \"value\": 0, \"text\": \"sx\"}, {\"index\": \"t\", \"variable\": \"x\", \"value\": 2, \"text\": \"tx\"}, {\"index\": \"u\", \"variable\": \"x\", \"value\": 34, \"text\": \"ux\"}, {\"index\": \"v\", \"variable\": \"x\", \"value\": 0, \"text\": \"vx\"}, {\"index\": \"w\", \"variable\": \"x\", \"value\": 0, \"text\": \"wx\"}, {\"index\": \"x\", \"variable\": \"x\", \"value\": 38, \"text\": \"xx\"}, {\"index\": \"y\", \"variable\": \"x\", \"value\": 28, \"text\": \"yx\"}, {\"index\": \"z\", \"variable\": \"x\", \"value\": 1, \"text\": \"zx\"}, {\"index\": \".\", \"variable\": \"y\", \"value\": 535, \"text\": \".y\"}, {\"index\": \"a\", \"variable\": \"y\", \"value\": 2050, \"text\": \"ay\"}, {\"index\": \"b\", \"variable\": \"y\", \"value\": 83, \"text\": \"by\"}, {\"index\": \"c\", \"variable\": \"y\", \"value\": 104, \"text\": \"cy\"}, {\"index\": \"d\", \"variable\": \"y\", \"value\": 317, \"text\": \"dy\"}, {\"index\": \"e\", \"variable\": \"y\", \"value\": 1070, \"text\": \"ey\"}, {\"index\": \"f\", \"variable\": \"y\", \"value\": 14, \"text\": \"fy\"}, {\"index\": \"g\", \"variable\": \"y\", \"value\": 31, \"text\": \"gy\"}, {\"index\": \"h\", \"variable\": \"y\", \"value\": 213, \"text\": \"hy\"}, {\"index\": \"i\", \"variable\": \"y\", \"value\": 779, \"text\": \"iy\"}, {\"index\": \"j\", \"variable\": \"y\", \"value\": 10, \"text\": \"jy\"}, {\"index\": \"k\", \"variable\": \"y\", \"value\": 379, \"text\": \"ky\"}, {\"index\": \"l\", \"variable\": \"y\", \"value\": 1588, \"text\": \"ly\"}, {\"index\": \"m\", \"variable\": \"y\", \"value\": 287, \"text\": \"my\"}, {\"index\": \"n\", \"variable\": \"y\", \"value\": 465, \"text\": \"ny\"}, {\"index\": \"o\", \"variable\": \"y\", \"value\": 103, \"text\": \"oy\"}, {\"index\": \"p\", \"variable\": \"y\", \"value\": 12, \"text\": \"py\"}, {\"index\": \"q\", \"variable\": \"y\", \"value\": 0, \"text\": \"qy\"}, {\"index\": \"r\", \"variable\": \"y\", \"value\": 773, \"text\": \"ry\"}, {\"index\": \"s\", \"variable\": \"y\", \"value\": 215, \"text\": \"sy\"}, {\"index\": \"t\", \"variable\": \"y\", \"value\": 341, \"text\": \"ty\"}, {\"index\": \"u\", \"variable\": \"y\", \"value\": 13, \"text\": \"uy\"}, {\"index\": \"v\", \"variable\": \"y\", \"value\": 121, \"text\": \"vy\"}, {\"index\": \"w\", \"variable\": \"y\", \"value\": 73, \"text\": \"wy\"}, {\"index\": \"x\", \"variable\": \"y\", \"value\": 30, \"text\": \"xy\"}, {\"index\": \"y\", \"variable\": \"y\", \"value\": 23, \"text\": \"yy\"}, {\"index\": \"z\", \"variable\": \"y\", \"value\": 147, \"text\": \"zy\"}, {\"index\": \".\", \"variable\": \"z\", \"value\": 929, \"text\": \".z\"}, {\"index\": \"a\", \"variable\": \"z\", \"value\": 435, \"text\": \"az\"}, {\"index\": \"b\", \"variable\": \"z\", \"value\": 0, \"text\": \"bz\"}, {\"index\": \"c\", \"variable\": \"z\", \"value\": 4, \"text\": \"cz\"}, {\"index\": \"d\", \"variable\": \"z\", \"value\": 1, \"text\": \"dz\"}, {\"index\": \"e\", \"variable\": \"z\", \"value\": 181, \"text\": \"ez\"}, {\"index\": \"f\", \"variable\": \"z\", \"value\": 2, \"text\": \"fz\"}, {\"index\": \"g\", \"variable\": \"z\", \"value\": 1, \"text\": \"gz\"}, {\"index\": \"h\", \"variable\": \"z\", \"value\": 20, \"text\": \"hz\"}, {\"index\": \"i\", \"variable\": \"z\", \"value\": 277, \"text\": \"iz\"}, {\"index\": \"j\", \"variable\": \"z\", \"value\": 0, \"text\": \"jz\"}, {\"index\": \"k\", \"variable\": \"z\", \"value\": 2, \"text\": \"kz\"}, {\"index\": \"l\", \"variable\": \"z\", \"value\": 10, \"text\": \"lz\"}, {\"index\": \"m\", \"variable\": \"z\", \"value\": 11, \"text\": \"mz\"}, {\"index\": \"n\", \"variable\": \"z\", \"value\": 145, \"text\": \"nz\"}, {\"index\": \"o\", \"variable\": \"z\", \"value\": 54, \"text\": \"oz\"}, {\"index\": \"p\", \"variable\": \"z\", \"value\": 0, \"text\": \"pz\"}, {\"index\": \"q\", \"variable\": \"z\", \"value\": 0, \"text\": \"qz\"}, {\"index\": \"r\", \"variable\": \"z\", \"value\": 23, \"text\": \"rz\"}, {\"index\": \"s\", \"variable\": \"z\", \"value\": 10, \"text\": \"sz\"}, {\"index\": \"t\", \"variable\": \"z\", \"value\": 105, \"text\": \"tz\"}, {\"index\": \"u\", \"variable\": \"z\", \"value\": 45, \"text\": \"uz\"}, {\"index\": \"v\", \"variable\": \"z\", \"value\": 0, \"text\": \"vz\"}, {\"index\": \"w\", \"variable\": \"z\", \"value\": 1, \"text\": \"wz\"}, {\"index\": \"x\", \"variable\": \"z\", \"value\": 19, \"text\": \"xz\"}, {\"index\": \"y\", \"variable\": \"z\", \"value\": 78, \"text\": \"yz\"}, {\"index\": \"z\", \"variable\": \"z\", \"value\": 45, \"text\": \"zz\"}]}}, {\"mode\": \"vega-lite\"});\n",
       "</script>"
      ],
      "text/plain": [
       "alt.LayerChart(...)"
      ]
     },
     "execution_count": 8,
     "metadata": {},
     "output_type": "execute_result"
    }
   ],
   "source": [
    "plot_histogram(counts)"
   ]
  },
  {
   "cell_type": "markdown",
   "metadata": {},
   "source": [
    "A new word is created by sampling from the row-wise multinomial distribution obtained by normalizing the count table using the row-wise sum."
   ]
  },
  {
   "cell_type": "markdown",
   "metadata": {},
   "source": [
    "### Sampling"
   ]
  },
  {
   "cell_type": "code",
   "execution_count": 9,
   "metadata": {},
   "outputs": [
    {
     "name": "stdout",
     "output_type": "stream",
     "text": [
      "Multinomial: cexze\n",
      "Multinomial: momasurailezitynn\n",
      "Multinomial: konimittain\n",
      "Multinomial: llayn\n",
      "Multinomial: ka\n"
     ]
    }
   ],
   "source": [
    "g = torch.Generator().manual_seed(2147483647)\n",
    "P = (counts + 1.0).float() \n",
    "P /= P.sum(1, keepdim=True)\n",
    "\n",
    "for _ in range(5):\n",
    "    generated = \"\"\n",
    "    idx = 0\n",
    "    while True:\n",
    "        p = P[idx]\n",
    "        idx = torch.multinomial(p, 1, replacement=True, generator=g).item()\n",
    "        if idx==0:\n",
    "            break\n",
    "        generated += idx_to_char[idx]\n",
    "    \n",
    "    print(f\"Multinomial: {generated}\")"
   ]
  },
  {
   "cell_type": "markdown",
   "metadata": {},
   "source": [
    "Similarly, the same can be done using the uniform distribution."
   ]
  },
  {
   "cell_type": "code",
   "execution_count": 10,
   "metadata": {},
   "outputs": [
    {
     "name": "stdout",
     "output_type": "stream",
     "text": [
      "Uniform: dbbvjhodxkduafvggx\n",
      "Uniform: gmtvifayiysfxauacof\n",
      "Uniform: eqovlrbxagfijqhdhwhrphqcsxbjsdqaigeaxieseavuckpbybhh\n",
      "Uniform: cajkxadyaebkufutihyqnebwnmxgnxtqoadwyinwsdhrnvckgorislsbnpyhlfltlfqvqwqfakgrditfdxhucfgvuforhrmdjmxojlk\n",
      "Uniform: qwhymxaqmheo\n",
      "Uniform: vmkpgwoxxghkuejpamqwkmrkajabkhrt\n",
      "Uniform: gmjytqicvymbxvuupucyppghgygrwdtiqggskcvstmtcetqtimqwg\n",
      "Uniform: pl\n",
      "Uniform: dbysyjplukxiypd\n",
      "Uniform: lgqsqpsdhwlughf\n"
     ]
    }
   ],
   "source": [
    "for _ in range(10):\n",
    "    generated = \"\"\n",
    "    idx = 0\n",
    "    while True:\n",
    "        u = torch.ones(26)\n",
    "        u = u / u.sum()\n",
    "        idx = torch.multinomial(u, 1, replacement=True, generator=g).item()\n",
    "        if idx==0:\n",
    "            break\n",
    "        generated += idx_to_char[idx]\n",
    "    \n",
    "    print(f\"Uniform: {generated}\")"
   ]
  },
  {
   "cell_type": "markdown",
   "metadata": {},
   "source": [
    "### Log likelihood"
   ]
  },
  {
   "cell_type": "code",
   "execution_count": 11,
   "metadata": {},
   "outputs": [
    {
     "name": "stdout",
     "output_type": "stream",
     "text": [
      "log_p=tensor(-559951.5625), -2.4543561935424805\n"
     ]
    }
   ],
   "source": [
    "log_p = 0.\n",
    "n = 0\n",
    "\n",
    "for ch1, ch2 in training:\n",
    "    ix1 = char_to_idx[ch1]\n",
    "    ix2 = char_to_idx[ch2]\n",
    "    log_p += torch.log(P[ix1, ix2])\n",
    "    n += 1\n",
    "\n",
    "print(f'{log_p=}, {log_p/n}')"
   ]
  },
  {
   "cell_type": "markdown",
   "metadata": {},
   "source": [
    "## Machine Learning Approach"
   ]
  },
  {
   "cell_type": "markdown",
   "metadata": {},
   "source": [
    "By Maximum Likelihood Estimation, one might want to maximize the likelihood of a word, given by the product of probabilities for each bigram in the word, i.e, $$\\mathscr{L} = \\prod_{i=0}^{N-1} \\operatorname{Prob}(c_ic_{i+1}),$$ where $N$ is the lenght of the word, and $c_i$ is the $i$-th character of the word.\n",
    "- Maximizing $\\mathscr{L}$ is equivalent to maximize the log-likelihood $\\log \\mathscr{L}$, as $\\log$ is a monotonic transformation.\n",
    "- Maximizing $\\log \\mathscr{L}$ is equivalent to minimize $-\\log \\mathscr{L}$.\n",
    "- Minimizing the negative log-likelihood is equivalent to minimize the average negative log-likelihhod.\n",
    "- Some bigram probabilities can be $0$, so the model is smoothed by adding counts —so the logarithm is not $\\infty$ when evaluated in the computer—."
   ]
  },
  {
   "cell_type": "code",
   "execution_count": 12,
   "metadata": {},
   "outputs": [],
   "source": [
    "xs = torch.tensor([char_to_idx[t[0]] for t in training])\n",
    "ys = torch.tensor([char_to_idx[t[1]] for t in training])"
   ]
  },
  {
   "cell_type": "code",
   "execution_count": 13,
   "metadata": {},
   "outputs": [
    {
     "data": {
      "text/plain": [
       "(tensor([ 0,  5, 13, 13,  1]), tensor([ 5, 13, 13,  1,  0]))"
      ]
     },
     "execution_count": 13,
     "metadata": {},
     "output_type": "execute_result"
    }
   ],
   "source": [
    "xs[:5], ys[:5]"
   ]
  },
  {
   "cell_type": "markdown",
   "metadata": {},
   "source": [
    "### Idea"
   ]
  },
  {
   "cell_type": "markdown",
   "metadata": {},
   "source": [
    "$X W$ is the matrix of logits, so $\\exp(XW)$ which applies exponentiation elementwise, can be seen as the log-counts table, equivalent to `counts` in the classical approach. This correspongs to applying the softmax function rowwise, defined by $$\\frac{e^{z_i}}{\\sum_{i=0}^{L} e^{z_i}},$$ where $L-1$ is the number of classes —in this case characters—. "
   ]
  },
  {
   "cell_type": "code",
   "execution_count": 14,
   "metadata": {},
   "outputs": [],
   "source": [
    "import torch.nn.functional as funct"
   ]
  },
  {
   "cell_type": "code",
   "execution_count": 15,
   "metadata": {},
   "outputs": [],
   "source": [
    "x_onehot = funct.one_hot(xs, num_classes=len(alphabet)).float()\n",
    "weights = torch.randn((len(alphabet), len(alphabet)), generator=g, requires_grad=True)"
   ]
  },
  {
   "cell_type": "markdown",
   "metadata": {},
   "source": [
    "### Training"
   ]
  },
  {
   "cell_type": "code",
   "execution_count": 16,
   "metadata": {},
   "outputs": [
    {
     "name": "stdout",
     "output_type": "stream",
     "text": [
      "Iter 1 \t|\t Loss: 3.82622\n",
      "Iter 101 \t|\t Loss: 2.47115\n",
      "Iter 201 \t|\t Loss: 2.46328\n",
      "Iter 301 \t|\t Loss: 2.46098\n",
      "Iter 401 \t|\t Loss: 2.45994\n",
      "Iter 501 \t|\t Loss: 2.45939\n",
      "Iter 601 \t|\t Loss: 2.45905\n",
      "Iter 701 \t|\t Loss: 2.45884\n",
      "Iter 801 \t|\t Loss: 2.45869\n",
      "Iter 901 \t|\t Loss: 2.45859\n"
     ]
    }
   ],
   "source": [
    "for i in range(1000):\n",
    "    x_onehot = funct.one_hot(xs, num_classes=len(alphabet)).float()\n",
    "    log_counts = (x_onehot @ weights).exp() #Should be similar to counts\n",
    "    probs = log_counts / log_counts.sum(1, keepdim=True) #Should be similar to P\n",
    "    loss = -probs[torch.arange(xs.shape[0]), ys].log().mean() + 0.001*(weights**2).mean()\n",
    "\n",
    "    if i%100 == 0: print(f\"Iter {i+1} \\t|\\t Loss: {loss.item():.5f}\")\n",
    "\n",
    "    weights.grad = None\n",
    "    loss.backward()\n",
    "\n",
    "    # descent = -2 * weights.grad if loss.data < 2.5 else -50 * weights.grad \n",
    "    descent = -60 * weights.grad \n",
    "    weights.data += descent "
   ]
  },
  {
   "cell_type": "code",
   "execution_count": 17,
   "metadata": {},
   "outputs": [
    {
     "data": {
      "text/plain": [
       "tensor(2.4585, grad_fn=<AddBackward0>)"
      ]
     },
     "execution_count": 17,
     "metadata": {},
     "output_type": "execute_result"
    }
   ],
   "source": [
    "loss"
   ]
  },
  {
   "cell_type": "markdown",
   "metadata": {},
   "source": [
    "### Sampling"
   ]
  },
  {
   "cell_type": "code",
   "execution_count": 18,
   "metadata": {},
   "outputs": [
    {
     "name": "stdout",
     "output_type": "stream",
     "text": [
      "Neural net: cexze\n",
      "Neural net: momasurailezitynn\n",
      "Neural net: konimittain\n",
      "Neural net: llayn\n",
      "Neural net: ka\n"
     ]
    }
   ],
   "source": [
    "g = torch.Generator().manual_seed(2147483647)\n",
    "\n",
    "for _ in range(5):\n",
    "    generated = \"\"\n",
    "    idx = 0\n",
    "    while True:\n",
    "        xenc = funct.one_hot(torch.tensor([idx]), num_classes=len(alphabet)).float()\n",
    "        log_counts = (xenc @ weights).exp()\n",
    "        p = log_counts / log_counts.sum(1, keepdim=True) \n",
    "        idx = torch.multinomial(p, 1, replacement=True, generator=g).item()\n",
    "        if idx==0:\n",
    "            break\n",
    "        generated += idx_to_char[idx]\n",
    "    \n",
    "    print(f\"Neural net: {generated}\")"
   ]
  },
  {
   "cell_type": "markdown",
   "metadata": {},
   "source": [
    "Although $P$ and the trained weights matrix are not exacly the same, they are actually really close."
   ]
  },
  {
   "cell_type": "code",
   "execution_count": 19,
   "metadata": {},
   "outputs": [],
   "source": [
    "PP = weights.exp() / weights.exp().sum(1, keepdim=True)"
   ]
  },
  {
   "cell_type": "code",
   "execution_count": 28,
   "metadata": {},
   "outputs": [
    {
     "data": {
      "text/plain": [
       "True"
      ]
     },
     "execution_count": 28,
     "metadata": {},
     "output_type": "execute_result"
    }
   ],
   "source": [
    "torch.allclose(P, PP, atol=1e-1)"
   ]
  }
 ],
 "metadata": {
  "kernelspec": {
   "display_name": "Python 3",
   "language": "python",
   "name": "python3"
  },
  "language_info": {
   "codemirror_mode": {
    "name": "ipython",
    "version": 3
   },
   "file_extension": ".py",
   "mimetype": "text/x-python",
   "name": "python",
   "nbconvert_exporter": "python",
   "pygments_lexer": "ipython3",
   "version": "3.10.11"
  }
 },
 "nbformat": 4,
 "nbformat_minor": 2
}
